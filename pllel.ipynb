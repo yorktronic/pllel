{
 "cells": [
  {
   "cell_type": "code",
   "execution_count": 1,
   "metadata": {
    "collapsed": true
   },
   "outputs": [],
   "source": [
    "import json\n",
    "import csv"
   ]
  },
  {
   "cell_type": "code",
   "execution_count": null,
   "metadata": {
    "collapsed": true
   },
   "outputs": [],
   "source": [
    "columns = ['$oid', 'difficulty', 'extraData', 'gasLimit', 'gasUsed', \n",
    "           'hash', 'logsBloom', 'miner', 'nonce', 'number', 'parentHash', \n",
    "           'sha3Uncles', 'size', 'stateRoot', 'timestamp', 'totalDifficulty', \n",
    "           'transactionsRoot', 'uncles']"
   ]
  },
  {
   "cell_type": "code",
   "execution_count": 3,
   "metadata": {
    "collapsed": false
   },
   "outputs": [],
   "source": [
    "data = []\n",
    "with open('data/blocks.json') as f:\n",
    "    for l in f:\n",
    "        in_line = json.loads(l)\n",
    "        out_line = {\n",
    "            'height': in_line['number'],\n",
    "            'oid': in_line['_id']['$oid'],\n",
    "            'timestamp': in_line['timestamp'],\n",
    "            'difficulty': in_line['difficulty'],\n",
    "            'extraData': in_line['extraData'],\n",
    "            'gasLimit': in_line['gasLimit'],\n",
    "            'gasUsed': in_line['gasUsed'],\n",
    "            'hash': in_line['hash'],\n",
    "            'logsBloom': in_line['logsBloom'],\n",
    "            'miner': in_line['miner'],\n",
    "            'nonce': in_line['nonce'],\n",
    "            'parentHash': in_line['parentHash'],\n",
    "            'sha3Uncles': in_line['sha3Uncles'],\n",
    "            'totalDifficulty': in_line['totalDifficulty'],\n",
    "            'transactionsRoot': in_line['transactionsRoot']\n",
    "        }\n",
    "        data.append(out_line)"
   ]
  },
  {
   "cell_type": "code",
   "execution_count": 5,
   "metadata": {
    "collapsed": false
   },
   "outputs": [],
   "source": [
    "keys = data[0].keys()\n",
    "with open('data/etc_blocks.csv', 'w') as output_file:\n",
    "    dict_writer = csv.DictWriter(output_file, keys)\n",
    "    dict_writer.writeheader()\n",
    "    dict_writer.writerows(data)"
   ]
  },
  {
   "cell_type": "code",
   "execution_count": 9,
   "metadata": {
    "collapsed": false
   },
   "outputs": [],
   "source": []
  },
  {
   "cell_type": "code",
   "execution_count": 10,
   "metadata": {
    "collapsed": false
   },
   "outputs": [],
   "source": [
    "outputFile = open('data/etc_blocks.csv', 'w')"
   ]
  },
  {
   "cell_type": "code",
   "execution_count": 11,
   "metadata": {
    "collapsed": true
   },
   "outputs": [],
   "source": [
    "output = csv.writer(outputFile)"
   ]
  },
  {
   "cell_type": "code",
   "execution_count": 12,
   "metadata": {
    "collapsed": false
   },
   "outputs": [
    {
     "data": {
      "text/plain": [
       "149"
      ]
     },
     "execution_count": 12,
     "metadata": {},
     "output_type": "execute_result"
    }
   ],
   "source": [
    "output.writerow(data[0].keys())"
   ]
  },
  {
   "cell_type": "code",
   "execution_count": null,
   "metadata": {
    "collapsed": true
   },
   "outputs": [],
   "source": []
  }
 ],
 "metadata": {
  "kernelspec": {
   "display_name": "Python 3",
   "language": "python",
   "name": "python3"
  },
  "language_info": {
   "codemirror_mode": {
    "name": "ipython",
    "version": 3
   },
   "file_extension": ".py",
   "mimetype": "text/x-python",
   "name": "python",
   "nbconvert_exporter": "python",
   "pygments_lexer": "ipython3",
   "version": "3.6.0"
  }
 },
 "nbformat": 4,
 "nbformat_minor": 2
}
